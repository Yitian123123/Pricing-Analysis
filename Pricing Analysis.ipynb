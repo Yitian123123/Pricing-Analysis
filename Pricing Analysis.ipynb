{
 "cells": [
  {
   "cell_type": "code",
   "execution_count": 1,
   "metadata": {},
   "outputs": [
    {
     "name": "stdout",
     "output_type": "stream",
     "text": [
      "   user_id            timestamp          source  device operative_system  test  price  converted\n",
      "0   604839  2015-05-08 03:38:34    ads_facebook  mobile              iOS     0     39          0\n",
      "1   624057  2015-05-10 21:08:46      seo-google  mobile          android     0     39          0\n",
      "2   317970  2015-04-04 15:01:23        ads-bing  mobile          android     0     39          0\n",
      "3   685636  2015-05-07 07:26:01  direct_traffic  mobile              iOS     1     59          0\n",
      "4   820854  2015-05-24 11:04:40    ads_facebook     web              mac     0     39          0\n"
     ]
    }
   ],
   "source": [
    "import pandas as pd\n",
    "import numpy as np\n",
    "import matplotlib.pyplot as plt\n",
    "import matplotlib.dates as mdates\n",
    "import seaborn as sns\n",
    "from scipy.stats import ttest_ind\n",
    "import statsmodels.stats.api as sms\n",
    "from matplotlib import rcParams\n",
    "rcParams.update({'figure.autolayout': True})\n",
    "pd.set_option('display.max_columns', 10)\n",
    "pd.set_option('display.width', 350)\n",
    "  \n",
    "#read the files\n",
    "test = pd.read_csv(\"test_results.csv\")\n",
    "print(test.head())"
   ]
  },
  {
   "cell_type": "code",
   "execution_count": 2,
   "metadata": {},
   "outputs": [
    {
     "name": "stdout",
     "output_type": "stream",
     "text": [
      "   user_id         city country    lat    long\n",
      "0   510335      Peabody     USA  42.53  -70.97\n",
      "1    89568         Reno     USA  39.54 -119.82\n",
      "2   434134       Rialto     USA  34.11 -117.39\n",
      "3   289769  Carson City     USA  39.15 -119.74\n",
      "4   939586      Chicago     USA  41.84  -87.68\n"
     ]
    }
   ],
   "source": [
    "user = pd.read_csv(\"user_table.csv\")\n",
    "print(user.head())"
   ]
  },
  {
   "cell_type": "code",
   "execution_count": 3,
   "metadata": {},
   "outputs": [
    {
     "name": "stdout",
     "output_type": "stream",
     "text": [
      "user_id             0\n",
      "timestamp           0\n",
      "source              0\n",
      "device              0\n",
      "operative_system    0\n",
      "test                0\n",
      "price               0\n",
      "converted           0\n",
      "dtype: int64\n"
     ]
    }
   ],
   "source": [
    "# check missing values\n",
    "print(test.isnull().sum())"
   ]
  },
  {
   "cell_type": "code",
   "execution_count": 4,
   "metadata": {},
   "outputs": [
    {
     "name": "stdout",
     "output_type": "stream",
     "text": [
      "user_id    0\n",
      "city       0\n",
      "country    0\n",
      "lat        0\n",
      "long       0\n",
      "dtype: int64\n"
     ]
    }
   ],
   "source": [
    "print(user.isnull().sum())"
   ]
  },
  {
   "cell_type": "code",
   "execution_count": 5,
   "metadata": {},
   "outputs": [
    {
     "name": "stdout",
     "output_type": "stream",
     "text": [
      "   user_id            timestamp          source  device operative_system  ...  converted          city  country    lat   long\n",
      "0   604839  2015-05-08 03:38:34    ads_facebook  mobile              iOS  ...          0       Buffalo      USA  42.89 -78.86\n",
      "1   624057  2015-05-10 21:08:46      seo-google  mobile          android  ...          0     Lakeville      USA  44.68 -93.24\n",
      "2   317970  2015-04-04 15:01:23        ads-bing  mobile          android  ...          0         Parma      USA  41.38 -81.73\n",
      "3   685636  2015-05-07 07:26:01  direct_traffic  mobile              iOS  ...          0  Fayetteville      USA  35.07 -78.90\n",
      "4   820854  2015-05-24 11:04:40    ads_facebook     web              mac  ...          0       Fishers      USA  39.95 -86.02\n",
      "\n",
      "[5 rows x 12 columns]\n"
     ]
    }
   ],
   "source": [
    "#join the two datasets on user_id\n",
    "data=pd.merge(left=test, right=user, how='left', on='user_id')\n",
    "\n",
    "print(data.head())"
   ]
  },
  {
   "cell_type": "markdown",
   "metadata": {},
   "source": [
    " ## check if people in test always get the 59 dollars and people in control 39 dollars"
   ]
  },
  {
   "cell_type": "code",
   "execution_count": 7,
   "metadata": {},
   "outputs": [
    {
     "name": "stdout",
     "output_type": "stream",
     "text": [
      "            user_id\n",
      "test price         \n",
      "0    39      202517\n",
      "     59         210\n",
      "1    39         155\n",
      "     59      113918\n"
     ]
    }
   ],
   "source": [
    "print(data[['user_id','test','price']].groupby(['test','price']).count())"
   ]
  },
  {
   "cell_type": "markdown",
   "metadata": {},
   "source": [
    "There are some issues. A small number of users appear to be getting the wrong price based on their test/control assignment.\n",
    "As the number here is pretty small, we can just remove them and move one with our analysis. However, this should be investigated further in case there is some bigger bug that might be impacting something else."
   ]
  },
  {
   "cell_type": "code",
   "execution_count": 8,
   "metadata": {},
   "outputs": [
    {
     "name": "stdout",
     "output_type": "stream",
     "text": [
      "            user_id\n",
      "test price         \n",
      "0    39      202517\n",
      "1    59      113918\n"
     ]
    }
   ],
   "source": [
    "data=data[((data['test']==0) & (data['price']==39)) | ((data['test']==1) & (data['price']==59))]\n",
    "print(data[['user_id','test','price']].groupby(['test','price']).count())"
   ]
  },
  {
   "cell_type": "code",
   "execution_count": 9,
   "metadata": {},
   "outputs": [
    {
     "name": "stdout",
     "output_type": "stream",
     "text": [
      "count    316435.000000\n",
      "mean          0.827083\n",
      "std           6.179009\n",
      "min           0.000000\n",
      "25%           0.000000\n",
      "50%           0.000000\n",
      "75%           0.000000\n",
      "max          59.000000\n",
      "Name: revenue, dtype: float64\n"
     ]
    }
   ],
   "source": [
    "# create the revenue variable\n",
    "data['revenue']=data['converted']*data['price']\n",
    "\n",
    "print(data['revenue'].describe())"
   ]
  },
  {
   "cell_type": "markdown",
   "metadata": {},
   "source": [
    "## Should the company sell its software for 39 or 59?"
   ]
  },
  {
   "cell_type": "code",
   "execution_count": 10,
   "metadata": {},
   "outputs": [
    {
     "name": "stdout",
     "output_type": "stream",
     "text": [
      "      converted\n",
      "test           \n",
      "0      0.019900\n",
      "1      0.015555\n"
     ]
    }
   ],
   "source": [
    "# compare conversion rate\n",
    "print(data[['converted','test']].groupby('test').mean())\n"
   ]
  },
  {
   "cell_type": "code",
   "execution_count": 11,
   "metadata": {},
   "outputs": [
    {
     "name": "stdout",
     "output_type": "stream",
     "text": [
      "       revenue\n",
      "test          \n",
      "0     0.776083\n",
      "1     0.917748\n"
     ]
    }
   ],
   "source": [
    "#Check avg revenue per user\n",
    "print(data[['revenue','test']].groupby('test').mean())"
   ]
  },
  {
   "cell_type": "code",
   "execution_count": 12,
   "metadata": {},
   "outputs": [
    {
     "name": "stdout",
     "output_type": "stream",
     "text": [
      "Ttest_indResult(statistic=5.715224666463108, pvalue=1.0972577312420781e-08)\n"
     ]
    }
   ],
   "source": [
    "# Check avg revenue per user\n",
    "# check if this is statistically significant\n",
    "print(ttest_ind(data[data['test']==1]['revenue'], data[data['test']==0]['revenue'], equal_var=False))\n",
    "# this is significant"
   ]
  },
  {
   "cell_type": "markdown",
   "metadata": {},
   "source": [
    "## How much different users are valuing our product?"
   ]
  },
  {
   "cell_type": "code",
   "execution_count": 14,
   "metadata": {},
   "outputs": [
    {
     "data": {
      "image/png": "[encoded data removed]",
      "text/plain": [
       "<Figure size 432x288 with 1 Axes>"
      ]
     },
     "metadata": {
      "needs_background": "light"
     },
     "output_type": "display_data"
    }
   ],
   "source": [
    "sns.barplot(x='source', y='revenue', hue='test', data=data)\n",
    "plt.xticks(rotation=45)\n",
    "plt.show()\n",
    "# Most segments agree with the overall finding of an increase in revenue as we increase price"
   ]
  },
  {
   "cell_type": "code",
   "execution_count": 15,
   "metadata": {},
   "outputs": [
    {
     "data": {
      "image/png": "[encoded data removed]",
      "text/plain": [
       "<Figure size 432x288 with 1 Axes>"
      ]
     },
     "metadata": {
      "needs_background": "light"
     },
     "output_type": "display_data"
    }
   ],
   "source": [
    "sns.barplot(x='device', y='revenue', hue='test', data=data)\n",
    "plt.xticks(rotation=45)\n",
    "plt.show()\n",
    "# mobile users are less price sensitive."
   ]
  },
  {
   "cell_type": "code",
   "execution_count": 16,
   "metadata": {},
   "outputs": [
    {
     "data": {
      "image/png": "[encoded data removed]",
      "text/plain": [
       "<Figure size 432x288 with 1 Axes>"
      ]
     },
     "metadata": {
      "needs_background": "light"
     },
     "output_type": "display_data"
    }
   ],
   "source": [
    "sns.barplot(x='operative_system', y='revenue', hue='test', data=data)\n",
    "plt.xticks(rotation=45)\n",
    "plt.show()\n",
    "# mac/iOS react better to the price increase"
   ]
  },
  {
   "cell_type": "code",
   "execution_count": null,
   "metadata": {},
   "outputs": [],
   "source": []
  }
 ],
 "metadata": {
  "kernelspec": {
   "display_name": "Python 3",
   "language": "python",
   "name": "python3"
  },
  "language_info": {
   "codemirror_mode": {
    "name": "ipython",
    "version": 3
   },
   "file_extension": ".py",
   "mimetype": "text/x-python",
   "name": "python",
   "nbconvert_exporter": "python",
   "pygments_lexer": "ipython3",
   "version": "3.8.3"
  }
 },
 "nbformat": 4,
 "nbformat_minor": 4
}
